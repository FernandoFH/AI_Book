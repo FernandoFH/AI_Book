{
  "nbformat": 4,
  "nbformat_minor": 0,
  "metadata": {
    "colab": {
      "name": "Python_Pro.ipynb",
      "provenance": [],
      "authorship_tag": "ABX9TyNA4NcmjQ74J/C6F0U5VpCn"
    },
    "kernelspec": {
      "name": "python3",
      "display_name": "Python 3"
    }
  },
  "cells": [
    {
      "cell_type": "markdown",
      "metadata": {
        "id": "nBo9RH7zo-la",
        "colab_type": "text"
      },
      "source": [
        "### Curso Profesional de Python by _CodigoFacilito_\n",
        "\n",
        "\n",
        "---\n",
        "\n"
      ]
    },
    {
      "cell_type": "markdown",
      "metadata": {
        "id": "RKHjLFiS6XUO",
        "colab_type": "text"
      },
      "source": [
        "Hola "
      ]
    },
    {
      "cell_type": "code",
      "metadata": {
        "id": "iSuxCYnHo4Sx",
        "colab_type": "code",
        "colab": {
          "base_uri": "https://localhost:8080/",
          "height": 34
        },
        "outputId": "d945e915-3065-4c1c-a7cd-f624581da1c2"
      },
      "source": [
        "print('Hola')"
      ],
      "execution_count": 1,
      "outputs": [
        {
          "output_type": "stream",
          "text": [
            "Hola\n"
          ],
          "name": "stdout"
        }
      ]
    }
  ]
}