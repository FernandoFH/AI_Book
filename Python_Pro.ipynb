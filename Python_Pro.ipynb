{
  "nbformat": 4,
  "nbformat_minor": 0,
  "metadata": {
    "colab": {
      "name": "Python_Pro.ipynb",
      "provenance": [],
      "authorship_tag": "ABX9TyOySKnYjx5aJmuheuJOUN+i"
    },
    "kernelspec": {
      "name": "python3",
      "display_name": "Python 3"
    }
  },
  "cells": [
    {
      "cell_type": "markdown",
      "metadata": {
        "id": "nBo9RH7zo-la",
        "colab_type": "text"
      },
      "source": [
        "## Curso Profesional de Python by _CodigoFacilito_\n",
        "---\n",
        "\n"
      ]
    },
    {
      "cell_type": "markdown",
      "metadata": {
        "id": "p0A92g4xq9zu",
        "colab_type": "text"
      },
      "source": [
        "### Conceptos \n"
      ]
    },
    {
      "cell_type": "code",
      "metadata": {
        "id": "vCF4GC7gwbVx",
        "colab_type": "code",
        "colab": {
          "base_uri": "https://localhost:8080/",
          "height": 34
        },
        "outputId": "49cc46fc-c414-4006-ceff-3621cfa01bf5"
      },
      "source": [
        "print ('Hola mundo')"
      ],
      "execution_count": 3,
      "outputs": [
        {
          "output_type": "stream",
          "text": [
            "Hola mundo\n"
          ],
          "name": "stdout"
        }
      ]
    },
    {
      "cell_type": "markdown",
      "metadata": {
        "id": "av-kCiiDCBFk",
        "colab_type": "text"
      },
      "source": [
        "##### Variables"
      ]
    },
    {
      "cell_type": "code",
      "metadata": {
        "id": "MXSr-8URCLea",
        "colab_type": "code",
        "colab": {
          "base_uri": "https://localhost:8080/",
          "height": 34
        },
        "outputId": "cd823550-7eab-4845-df62-c48dc87cda75"
      },
      "source": [
        "tutor_curso='fernando'\n",
        "print(tutor_curso)\n",
        "\n",
        "valor_uno=10 \n",
        "valor_dos='Codigo'\n",
        "valor_tres=20\n",
        "\n",
        "valor_uno,valor_dos,valor_tres= 10,'Codigo',20\n"
      ],
      "execution_count": 7,
      "outputs": [
        {
          "output_type": "stream",
          "text": [
            "fernando\n"
          ],
          "name": "stdout"
        }
      ]
    },
    {
      "cell_type": "markdown",
      "metadata": {
        "id": "auzlWQ42CrqM",
        "colab_type": "text"
      },
      "source": [
        "##### Constante\n",
        "Las constante en Python no existen se usa Nomenclatura todo en mayusculas"
      ]
    },
    {
      "cell_type": "code",
      "metadata": {
        "id": "4w9u70QbC_mK",
        "colab_type": "code",
        "colab": {
          "base_uri": "https://localhost:8080/",
          "height": 34
        },
        "outputId": "c6e783ad-d91b-434b-8465-9b44173a330b"
      },
      "source": [
        "TUTOR_CORSO='fernando'\n",
        "print(tutor_curso)"
      ],
      "execution_count": 6,
      "outputs": [
        {
          "output_type": "stream",
          "text": [
            "fernando\n"
          ],
          "name": "stdout"
        }
      ]
    },
    {
      "cell_type": "markdown",
      "metadata": {
        "id": "J7PT0QwqXG9h",
        "colab_type": "text"
      },
      "source": [
        "##### Operadores relacionales y lógicos"
      ]
    },
    {
      "cell_type": "code",
      "metadata": {
        "id": "r5z_C_HxXQNn",
        "colab_type": "code",
        "colab": {
          "base_uri": "https://localhost:8080/",
          "height": 34
        },
        "outputId": "2161f437-ae18-4f08-a3ff-2f2f310e227d"
      },
      "source": [
        "valor_uno= 10  \n",
        "valor_dos= 18\n",
        "\n",
        "mayor = valor_uno > valor_dos\n",
        "menor = valor_uno < valor_dos\n",
        "mayor_igual = valor_uno >= valor_dos\n",
        "menor_igual = valor_uno <= valor_dos\n",
        "igual = valor_uno = valor_dos\n",
        "diferente = valor_uno != valor_dos\n",
        "\n",
        "print(mayor)\n",
        "# AND OR NOT IS  "
      ],
      "execution_count": 8,
      "outputs": [
        {
          "output_type": "stream",
          "text": [
            "False\n"
          ],
          "name": "stdout"
        }
      ]
    },
    {
      "cell_type": "markdown",
      "metadata": {
        "id": "pgsKSn81XJvz",
        "colab_type": "text"
      },
      "source": [
        "##### Entrada de datos por teclado\n"
      ]
    },
    {
      "cell_type": "code",
      "metadata": {
        "id": "ecEqiz5bcUEm",
        "colab_type": "code",
        "colab": {
          "base_uri": "https://localhost:8080/",
          "height": 221
        },
        "outputId": "f69bbe4d-2f84-4ee3-885d-40cccc7e3b10"
      },
      "source": [
        "print('Nombre?') \n",
        "nombre = input()\n",
        "\n",
        "print('Edad?')\n",
        "edad = int(input())\n",
        "\n",
        "print('Peso?')\n",
        "peso = float(input())\n",
        "\n",
        "print('Autorizado?')\n",
        "autorizado = input() == 'si'\n",
        "\n",
        "print('Hola', nombre)\n",
        "print('Edad', edad)\n",
        "print('Peso', peso)\n",
        "print('Autorizado', autorizado)"
      ],
      "execution_count": 11,
      "outputs": [
        {
          "output_type": "stream",
          "text": [
            "Nombre?\n",
            "Fer\n",
            "Edad?\n",
            "31\n",
            "Peso?\n",
            "80\n",
            "Autorizado?\n",
            "si\n",
            "Hola Fer\n",
            "Edad 31\n",
            "Peso 80.0\n",
            "Autorizado True\n"
          ],
          "name": "stdout"
        }
      ]
    },
    {
      "cell_type": "markdown",
      "metadata": {
        "id": "5_umUPdXe7KI",
        "colab_type": "text"
      },
      "source": [
        "### Listas \n",
        "La diferencia entre una lista y un arreglo es que la lista puede cambiar de tamaño en tiempo de ejecución "
      ]
    },
    {
      "cell_type": "code",
      "metadata": {
        "id": "pD2Fa7v3fUQg",
        "colab_type": "code",
        "colab": {}
      },
      "source": [
        "lista = []"
      ],
      "execution_count": 0,
      "outputs": []
    },
    {
      "cell_type": "code",
      "metadata": {
        "id": "3TacQfVZftEc",
        "colab_type": "code",
        "colab": {}
      },
      "source": [
        "curoso = ['python','django','flask']"
      ],
      "execution_count": 0,
      "outputs": []
    }
  ]
}