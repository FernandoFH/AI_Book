{
  "nbformat": 4,
  "nbformat_minor": 0,
  "metadata": {
    "colab": {
      "name": "Python_Pro.ipynb",
      "provenance": [],
      "authorship_tag": "ABX9TyOTxZGsecqvJJ+dplKlw9FV",
      "include_colab_link": true
    },
    "kernelspec": {
      "name": "python3",
      "display_name": "Python 3"
    }
  },
  "cells": [
    {
      "cell_type": "markdown",
      "metadata": {
        "id": "view-in-github",
        "colab_type": "text"
      },
      "source": [
        "<a href=\"https://colab.research.google.com/github/FernandoFH/AI_NoteBook/blob/master/Python_Pro.ipynb\" target=\"_parent\"><img src=\"https://colab.research.google.com/assets/colab-badge.svg\" alt=\"Open In Colab\"/></a>"
      ]
    },
    {
      "cell_type": "markdown",
      "metadata": {
        "id": "nBo9RH7zo-la",
        "colab_type": "text"
      },
      "source": [
        "## Curso Profesional de Python by _CodigoFacilito_\n",
        "---\n",
        "\n"
      ]
    },
    {
      "cell_type": "markdown",
      "metadata": {
        "id": "p0A92g4xq9zu",
        "colab_type": "text"
      },
      "source": [
        "### Conceptos \n"
      ]
    },
    {
      "cell_type": "code",
      "metadata": {
        "id": "vCF4GC7gwbVx",
        "colab_type": "code",
        "outputId": "49cc46fc-c414-4006-ceff-3621cfa01bf5",
        "colab": {
          "base_uri": "https://localhost:8080/",
          "height": 34
        }
      },
      "source": [
        "print ('Hola mundo')"
      ],
      "execution_count": 0,
      "outputs": [
        {
          "output_type": "stream",
          "text": [
            "Hola mundo\n"
          ],
          "name": "stdout"
        }
      ]
    },
    {
      "cell_type": "markdown",
      "metadata": {
        "id": "av-kCiiDCBFk",
        "colab_type": "text"
      },
      "source": [
        "###### Variables"
      ]
    },
    {
      "cell_type": "code",
      "metadata": {
        "id": "MXSr-8URCLea",
        "colab_type": "code",
        "outputId": "cd823550-7eab-4845-df62-c48dc87cda75",
        "colab": {
          "base_uri": "https://localhost:8080/",
          "height": 34
        }
      },
      "source": [
        "tutor_curso='fernando'\n",
        "print(tutor_curso)\n",
        "\n",
        "valor_uno=10 \n",
        "valor_dos='Codigo'\n",
        "valor_tres=20\n",
        "\n",
        "valor_uno,valor_dos,valor_tres= 10,'Codigo',20\n"
      ],
      "execution_count": 0,
      "outputs": [
        {
          "output_type": "stream",
          "text": [
            "fernando\n"
          ],
          "name": "stdout"
        }
      ]
    },
    {
      "cell_type": "markdown",
      "metadata": {
        "id": "auzlWQ42CrqM",
        "colab_type": "text"
      },
      "source": [
        "###### Constante\n",
        "Las constante en Python no existen se usa Nomenclatura todo en mayusculas"
      ]
    },
    {
      "cell_type": "code",
      "metadata": {
        "id": "4w9u70QbC_mK",
        "colab_type": "code",
        "outputId": "c6e783ad-d91b-434b-8465-9b44173a330b",
        "colab": {
          "base_uri": "https://localhost:8080/",
          "height": 34
        }
      },
      "source": [
        "TUTOR_CORSO='fernando'\n",
        "print(tutor_curso)"
      ],
      "execution_count": 0,
      "outputs": [
        {
          "output_type": "stream",
          "text": [
            "fernando\n"
          ],
          "name": "stdout"
        }
      ]
    },
    {
      "cell_type": "markdown",
      "metadata": {
        "id": "J7PT0QwqXG9h",
        "colab_type": "text"
      },
      "source": [
        "###### Operadores relacionales y lógicos"
      ]
    },
    {
      "cell_type": "code",
      "metadata": {
        "id": "r5z_C_HxXQNn",
        "colab_type": "code",
        "outputId": "2161f437-ae18-4f08-a3ff-2f2f310e227d",
        "colab": {
          "base_uri": "https://localhost:8080/",
          "height": 34
        }
      },
      "source": [
        "valor_uno= 10  \n",
        "valor_dos= 18\n",
        "\n",
        "mayor = valor_uno > valor_dos\n",
        "menor = valor_uno < valor_dos\n",
        "mayor_igual = valor_uno >= valor_dos\n",
        "menor_igual = valor_uno <= valor_dos\n",
        "igual = valor_uno = valor_dos\n",
        "diferente = valor_uno != valor_dos\n",
        "\n",
        "print(mayor)\n",
        "# AND OR NOT IS  "
      ],
      "execution_count": 0,
      "outputs": [
        {
          "output_type": "stream",
          "text": [
            "False\n"
          ],
          "name": "stdout"
        }
      ]
    },
    {
      "cell_type": "markdown",
      "metadata": {
        "id": "pgsKSn81XJvz",
        "colab_type": "text"
      },
      "source": [
        "###### Entrada de datos por teclado\n"
      ]
    },
    {
      "cell_type": "code",
      "metadata": {
        "id": "ecEqiz5bcUEm",
        "colab_type": "code",
        "outputId": "f69bbe4d-2f84-4ee3-885d-40cccc7e3b10",
        "colab": {
          "base_uri": "https://localhost:8080/",
          "height": 221
        }
      },
      "source": [
        "print('Nombre?') \n",
        "nombre = input()\n",
        "\n",
        "print('Edad?')\n",
        "edad = int(input())\n",
        "\n",
        "print('Peso?')\n",
        "peso = float(input())\n",
        "\n",
        "print('Autorizado?')\n",
        "autorizado = input() == 'si'\n",
        "\n",
        "print('Hola', nombre)\n",
        "print('Edad', edad)\n",
        "print('Peso', peso)\n",
        "print('Autorizado', autorizado)"
      ],
      "execution_count": 0,
      "outputs": [
        {
          "output_type": "stream",
          "text": [
            "Nombre?\n",
            "Fer\n",
            "Edad?\n",
            "31\n",
            "Peso?\n",
            "80\n",
            "Autorizado?\n",
            "si\n",
            "Hola Fer\n",
            "Edad 31\n",
            "Peso 80.0\n",
            "Autorizado True\n"
          ],
          "name": "stdout"
        }
      ]
    },
    {
      "cell_type": "markdown",
      "metadata": {
        "id": "5_umUPdXe7KI",
        "colab_type": "text"
      },
      "source": [
        "### Listas \n",
        "La diferencia entre una lista y un arreglo es que la lista puede cambiar de tamaño en tiempo de ejecución "
      ]
    },
    {
      "cell_type": "code",
      "metadata": {
        "id": "pD2Fa7v3fUQg",
        "colab_type": "code",
        "colab": {}
      },
      "source": [
        "lista = []"
      ],
      "execution_count": 0,
      "outputs": []
    },
    {
      "cell_type": "code",
      "metadata": {
        "id": "3TacQfVZftEc",
        "colab_type": "code",
        "colab": {}
      },
      "source": [
        "curoso = ['python','django','flask']"
      ],
      "execution_count": 0,
      "outputs": []
    },
    {
      "cell_type": "markdown",
      "metadata": {
        "id": "VJKAoo5r_wvx",
        "colab_type": "text"
      },
      "source": [
        "###### Operadores comunes"
      ]
    },
    {
      "cell_type": "code",
      "metadata": {
        "id": "GpkJPT7i_4Es",
        "colab_type": "code",
        "colab": {}
      },
      "source": [
        "lista = [8.17, 90, 1, 5, 44, 1.32]\n",
        "\n",
        "lista.sort()\n",
        "menor = lista[0]\n",
        "\n",
        "lista.sort(reverse=True)\n",
        "mayor = lista[0]\n",
        "\n",
        "menos = min(lista)\n",
        "mayor = max(lista)\n",
        "\n",
        "longitud = len(lista)\n",
        "\n",
        "resultado = 8 in lista \n",
        "print(resultado)\n",
        "\n",
        "indice = lista.index(8.17)\n",
        "print(indice)\n",
        "\n",
        "contador = lista.count(5)\n",
        "print (contador)\n"
      ],
      "execution_count": 0,
      "outputs": []
    },
    {
      "cell_type": "markdown",
      "metadata": {
        "id": "ENFi9wjnBGqB",
        "colab_type": "text"
      },
      "source": [
        "###### Matrices"
      ]
    },
    {
      "cell_type": "code",
      "metadata": {
        "id": "0N6MVlhSBHY-",
        "colab_type": "code",
        "colab": {}
      },
      "source": [
        "fila_uno = [10, 20]\n",
        "fila_dos = [30, 40] \n",
        "\n",
        "matriz = [fila_uno,fila_dos]\n",
        "\n",
        "print(matriz[0][0])\n",
        "print(matriz[0][1])\n",
        "print(matriz[1][0])\n",
        "print(matriz[1][1])"
      ],
      "execution_count": 0,
      "outputs": []
    },
    {
      "cell_type": "code",
      "metadata": {
        "id": "UaHsN6QVCFPo",
        "colab_type": "code",
        "colab": {}
      },
      "source": [
        "# Metodos mas usados \n",
        "\n",
        "lista.count()\n",
        "lista.append()\n",
        "lista.insert()\n",
        "lista.remove()\n",
        "lista.index()\n",
        "lista.clear()\n",
        "lista.sort()\n",
        "\n",
        "# Funciones mas usados \n",
        "max(lista)\n",
        "min(lista)\n",
        "len(lista)"
      ],
      "execution_count": 0,
      "outputs": []
    },
    {
      "cell_type": "markdown",
      "metadata": {
        "id": "B6UCkjZkDAs5",
        "colab_type": "text"
      },
      "source": [
        "### Tuplas \n",
        "Las tuplas son inmutables  \n",
        "Cadena "
      ]
    },
    {
      "cell_type": "code",
      "metadata": {
        "id": "LAWTxngQDUsz",
        "colab_type": "code",
        "outputId": "c78dc0f5-f0ae-4e1d-d996-a74a66f2dfdd",
        "colab": {
          "base_uri": "https://localhost:8080/",
          "height": 34
        }
      },
      "source": [
        "tupla = (1,2,3,4,5,6,7,8,9,0)\n",
        "\n",
        "elemento = tupla[4]\n",
        "print(elemento)\n",
        "\n",
        "elemento = tupla[-1]\n",
        "print(elemento)\n",
        "\n",
        "sub = tupla[:9:2]\n",
        "print(sub)\n",
        "\n",
        "uno, dos, *tres = tupla\n",
        "\n",
        "tupla = (1,2,3,4,5,6)\n",
        "lista = [10, 20, 30, 40]\n",
        "\n",
        "resultado = zip(tupla, lista)\n",
        "resultado = tuple(resultado)"
      ],
      "execution_count": 0,
      "outputs": [
        {
          "output_type": "stream",
          "text": [
            "5\n"
          ],
          "name": "stdout"
        }
      ]
    },
    {
      "cell_type": "markdown",
      "metadata": {
        "id": "D_6KKE1pF_Yv",
        "colab_type": "text"
      },
      "source": [
        "###### De listas a tuplas"
      ]
    },
    {
      "cell_type": "code",
      "metadata": {
        "id": "F3Z75UvBGBuZ",
        "colab_type": "code",
        "colab": {}
      },
      "source": [
        "lista = []\n",
        "tupla = ()\n",
        "\n",
        "nueva_lista = list(tupla)\n",
        "nueva_tupla = tuple(lista)"
      ],
      "execution_count": 0,
      "outputs": []
    },
    {
      "cell_type": "markdown",
      "metadata": {
        "id": "VOOsCVkzG6n4",
        "colab_type": "text"
      },
      "source": [
        "### Cadena"
      ]
    },
    {
      "cell_type": "code",
      "metadata": {
        "id": "hM1LY_BPG9wG",
        "colab_type": "code",
        "colab": {}
      },
      "source": [
        "lenguajes = \"Python; Java; Ruby; PHP; Swift, js; C#; C; C++\"\n",
        "\n",
        "lenguajes.splipt(\";\") #Retorna una lista \n",
        "\n",
        "\" \".join() #Retorna un string \n",
        "\n",
        "# Metodos mas usados para cadenas \n",
        "texto.capitalizate() #Primera letra en Mayuscula \n",
        ".swapcase \n",
        ".upper \n",
        ".lower\n",
        ".isupper\n",
        ".islower\n",
        "\n",
        ".title\n",
        ".replace\n",
        ".strip\n",
        "\n",
        "{}.format()\n",
        "\n",
        "# Busqueda \n",
        "mensaje.count(\"TextoABuscar\") #-> int \n",
        "\n",
        "resultado = \"Texto\" in mensaje # -> boolean\n",
        "\n",
        "mensaje.find(\"TextoABuscar\") # -> int "
      ],
      "execution_count": 0,
      "outputs": []
    },
    {
      "cell_type": "markdown",
      "metadata": {
        "id": "Tb5u_vZ-Qc-T",
        "colab_type": "text"
      },
      "source": [
        "### Diccionarios"
      ]
    },
    {
      "cell_type": "code",
      "metadata": {
        "id": "ayg8_adQQkqQ",
        "colab_type": "code",
        "colab": {}
      },
      "source": [
        ""
      ],
      "execution_count": 0,
      "outputs": []
    }
  ]
}