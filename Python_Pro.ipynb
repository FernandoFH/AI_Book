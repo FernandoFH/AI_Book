{
  "nbformat": 4,
  "nbformat_minor": 0,
  "metadata": {
    "colab": {
      "name": "Python_Pro.ipynb",
      "provenance": [],
      "authorship_tag": "ABX9TyNhBa5sKlDeLyk5xihL9K5G"
    },
    "kernelspec": {
      "name": "python3",
      "display_name": "Python 3"
    }
  },
  "cells": [
    {
      "cell_type": "markdown",
      "metadata": {
        "id": "nBo9RH7zo-la",
        "colab_type": "text"
      },
      "source": [
        "## Curso Profesional de Python by _CodigoFacilito_\n",
        "---\n",
        "\n"
      ]
    },
    {
      "cell_type": "markdown",
      "metadata": {
        "id": "p0A92g4xq9zu",
        "colab_type": "text"
      },
      "source": [
        "### Conceptos \n"
      ]
    },
    {
      "cell_type": "code",
      "metadata": {
        "id": "vCF4GC7gwbVx",
        "colab_type": "code",
        "outputId": "49cc46fc-c414-4006-ceff-3621cfa01bf5",
        "colab": {
          "base_uri": "https://localhost:8080/",
          "height": 34
        }
      },
      "source": [
        "print ('Hola mundo')"
      ],
      "execution_count": 0,
      "outputs": [
        {
          "output_type": "stream",
          "text": [
            "Hola mundo\n"
          ],
          "name": "stdout"
        }
      ]
    },
    {
      "cell_type": "markdown",
      "metadata": {
        "id": "av-kCiiDCBFk",
        "colab_type": "text"
      },
      "source": [
        "###### Variables"
      ]
    },
    {
      "cell_type": "code",
      "metadata": {
        "id": "MXSr-8URCLea",
        "colab_type": "code",
        "outputId": "cd823550-7eab-4845-df62-c48dc87cda75",
        "colab": {
          "base_uri": "https://localhost:8080/",
          "height": 34
        }
      },
      "source": [
        "tutor_curso='fernando'\n",
        "print(tutor_curso)\n",
        "\n",
        "valor_uno=10 \n",
        "valor_dos='Codigo'\n",
        "valor_tres=20\n",
        "\n",
        "valor_uno,valor_dos,valor_tres= 10,'Codigo',20\n"
      ],
      "execution_count": 0,
      "outputs": [
        {
          "output_type": "stream",
          "text": [
            "fernando\n"
          ],
          "name": "stdout"
        }
      ]
    },
    {
      "cell_type": "markdown",
      "metadata": {
        "id": "auzlWQ42CrqM",
        "colab_type": "text"
      },
      "source": [
        "###### Constante\n",
        "Las constante en Python no existen se usa Nomenclatura todo en mayusculas"
      ]
    },
    {
      "cell_type": "code",
      "metadata": {
        "id": "4w9u70QbC_mK",
        "colab_type": "code",
        "outputId": "c6e783ad-d91b-434b-8465-9b44173a330b",
        "colab": {
          "base_uri": "https://localhost:8080/",
          "height": 34
        }
      },
      "source": [
        "TUTOR_CORSO='fernando'\n",
        "print(tutor_curso)"
      ],
      "execution_count": 0,
      "outputs": [
        {
          "output_type": "stream",
          "text": [
            "fernando\n"
          ],
          "name": "stdout"
        }
      ]
    },
    {
      "cell_type": "markdown",
      "metadata": {
        "id": "J7PT0QwqXG9h",
        "colab_type": "text"
      },
      "source": [
        "###### Operadores relacionales y lógicos"
      ]
    },
    {
      "cell_type": "code",
      "metadata": {
        "id": "r5z_C_HxXQNn",
        "colab_type": "code",
        "outputId": "2161f437-ae18-4f08-a3ff-2f2f310e227d",
        "colab": {
          "base_uri": "https://localhost:8080/",
          "height": 34
        }
      },
      "source": [
        "valor_uno= 10  \n",
        "valor_dos= 18\n",
        "\n",
        "mayor = valor_uno > valor_dos\n",
        "menor = valor_uno < valor_dos\n",
        "mayor_igual = valor_uno >= valor_dos\n",
        "menor_igual = valor_uno <= valor_dos\n",
        "igual = valor_uno = valor_dos\n",
        "diferente = valor_uno != valor_dos\n",
        "\n",
        "print(mayor)\n",
        "# AND OR NOT IS  "
      ],
      "execution_count": 0,
      "outputs": [
        {
          "output_type": "stream",
          "text": [
            "False\n"
          ],
          "name": "stdout"
        }
      ]
    },
    {
      "cell_type": "markdown",
      "metadata": {
        "id": "pgsKSn81XJvz",
        "colab_type": "text"
      },
      "source": [
        "###### Entrada de datos por teclado\n"
      ]
    },
    {
      "cell_type": "code",
      "metadata": {
        "id": "ecEqiz5bcUEm",
        "colab_type": "code",
        "outputId": "f69bbe4d-2f84-4ee3-885d-40cccc7e3b10",
        "colab": {
          "base_uri": "https://localhost:8080/",
          "height": 221
        }
      },
      "source": [
        "print('Nombre?') \n",
        "nombre = input()\n",
        "\n",
        "print('Edad?')\n",
        "edad = int(input())\n",
        "\n",
        "print('Peso?')\n",
        "peso = float(input())\n",
        "\n",
        "print('Autorizado?')\n",
        "autorizado = input() == 'si'\n",
        "\n",
        "print('Hola', nombre)\n",
        "print('Edad', edad)\n",
        "print('Peso', peso)\n",
        "print('Autorizado', autorizado)"
      ],
      "execution_count": 0,
      "outputs": [
        {
          "output_type": "stream",
          "text": [
            "Nombre?\n",
            "Fer\n",
            "Edad?\n",
            "31\n",
            "Peso?\n",
            "80\n",
            "Autorizado?\n",
            "si\n",
            "Hola Fer\n",
            "Edad 31\n",
            "Peso 80.0\n",
            "Autorizado True\n"
          ],
          "name": "stdout"
        }
      ]
    },
    {
      "cell_type": "markdown",
      "metadata": {
        "id": "5_umUPdXe7KI",
        "colab_type": "text"
      },
      "source": [
        "### Listas \n",
        "La diferencia entre una lista y un arreglo es que la lista puede cambiar de tamaño en tiempo de ejecución "
      ]
    },
    {
      "cell_type": "code",
      "metadata": {
        "id": "pD2Fa7v3fUQg",
        "colab_type": "code",
        "colab": {}
      },
      "source": [
        "lista = []"
      ],
      "execution_count": 0,
      "outputs": []
    },
    {
      "cell_type": "code",
      "metadata": {
        "id": "3TacQfVZftEc",
        "colab_type": "code",
        "colab": {}
      },
      "source": [
        "curoso = ['python','django','flask']"
      ],
      "execution_count": 0,
      "outputs": []
    },
    {
      "cell_type": "markdown",
      "metadata": {
        "id": "VJKAoo5r_wvx",
        "colab_type": "text"
      },
      "source": [
        "###### Operadores comunes"
      ]
    },
    {
      "cell_type": "code",
      "metadata": {
        "id": "GpkJPT7i_4Es",
        "colab_type": "code",
        "colab": {}
      },
      "source": [
        "lista = [8.17, 90, 1, 5, 44, 1.32]\n",
        "\n",
        "lista.sort()\n",
        "menor = lista[0]\n",
        "\n",
        "lista.sort(reverse=True)\n",
        "mayor = lista[0]\n",
        "\n",
        "menos = min(lista)\n",
        "mayor = max(lista)\n",
        "\n",
        "longitud = len(lista)\n",
        "\n",
        "resultado = 8 in lista \n",
        "print(resultado)\n",
        "\n",
        "indice = lista.index(8.17)\n",
        "print(indice)\n",
        "\n",
        "contador = lista.count(5)\n",
        "print (contador)\n"
      ],
      "execution_count": 0,
      "outputs": []
    },
    {
      "cell_type": "markdown",
      "metadata": {
        "id": "ENFi9wjnBGqB",
        "colab_type": "text"
      },
      "source": [
        "###### Matrices"
      ]
    },
    {
      "cell_type": "code",
      "metadata": {
        "id": "0N6MVlhSBHY-",
        "colab_type": "code",
        "colab": {}
      },
      "source": [
        "fila_uno = [10, 20]\n",
        "fila_dos = [30, 40] \n",
        "\n",
        "matriz = [fila_uno,fila_dos]\n",
        "\n",
        "print(matriz[0][0])\n",
        "print(matriz[0][1])\n",
        "print(matriz[1][0])\n",
        "print(matriz[1][1])"
      ],
      "execution_count": 0,
      "outputs": []
    },
    {
      "cell_type": "code",
      "metadata": {
        "id": "UaHsN6QVCFPo",
        "colab_type": "code",
        "colab": {}
      },
      "source": [
        "# Metodos mas usados \n",
        "\n",
        "lista.count()\n",
        "lista.append()\n",
        "lista.insert()\n",
        "lista.remove()\n",
        "lista.index()\n",
        "lista.clear()\n",
        "lista.sort()\n",
        "\n",
        "# Funciones mas usados \n",
        "max(lista)\n",
        "min(lista)\n",
        "len(lista)"
      ],
      "execution_count": 0,
      "outputs": []
    },
    {
      "cell_type": "markdown",
      "metadata": {
        "id": "B6UCkjZkDAs5",
        "colab_type": "text"
      },
      "source": [
        "### Tuplas \n",
        "Las tuplas son inmutables  \n",
        "Cadena "
      ]
    },
    {
      "cell_type": "code",
      "metadata": {
        "id": "LAWTxngQDUsz",
        "colab_type": "code",
        "outputId": "c78dc0f5-f0ae-4e1d-d996-a74a66f2dfdd",
        "colab": {
          "base_uri": "https://localhost:8080/",
          "height": 34
        }
      },
      "source": [
        "tupla = (1,2,3,4,5,6,7,8,9,0)\n",
        "\n",
        "elemento = tupla[4]\n",
        "print(elemento)\n",
        "\n",
        "elemento = tupla[-1]\n",
        "print(elemento)\n",
        "\n",
        "sub = tupla[:9:2]\n",
        "print(sub)\n",
        "\n",
        "uno, dos, *tres = tupla\n",
        "\n",
        "tupla = (1,2,3,4,5,6)\n",
        "lista = [10, 20, 30, 40]\n",
        "\n",
        "resultado = zip(tupla, lista)\n",
        "resultado = tuple(resultado)"
      ],
      "execution_count": 0,
      "outputs": [
        {
          "output_type": "stream",
          "text": [
            "5\n"
          ],
          "name": "stdout"
        }
      ]
    },
    {
      "cell_type": "markdown",
      "metadata": {
        "id": "D_6KKE1pF_Yv",
        "colab_type": "text"
      },
      "source": [
        "###### De listas a tuplas"
      ]
    },
    {
      "cell_type": "code",
      "metadata": {
        "id": "F3Z75UvBGBuZ",
        "colab_type": "code",
        "colab": {}
      },
      "source": [
        "lista = []\n",
        "tupla = ()\n",
        "\n",
        "nueva_lista = list(tupla)\n",
        "nueva_tupla = tuple(lista)"
      ],
      "execution_count": 0,
      "outputs": []
    },
    {
      "cell_type": "markdown",
      "metadata": {
        "id": "VOOsCVkzG6n4",
        "colab_type": "text"
      },
      "source": [
        "### Cadena"
      ]
    },
    {
      "cell_type": "code",
      "metadata": {
        "id": "hM1LY_BPG9wG",
        "colab_type": "code",
        "colab": {}
      },
      "source": [
        "lenguajes = \"Python; Java; Ruby; PHP; Swift, js; C#; C; C++\"\n",
        "\n",
        "lenguajes.splipt(\";\") #Retorna una lista \n",
        "\n",
        "\" \".join() #Retorna un string \n",
        "\n",
        "# Metodos mas usados para cadenas \n",
        "texto.capitalizate() #Primera letra en Mayuscula \n",
        ".swapcase \n",
        ".upper \n",
        ".lower\n",
        ".isupper\n",
        ".islower\n",
        "\n",
        ".title\n",
        ".replace\n",
        ".strip\n",
        "\n",
        "{}.format()\n",
        "\n",
        "# Busqueda \n",
        "mensaje.count(\"TextoABuscar\") #-> int \n",
        "\n",
        "resultado = \"Texto\" in mensaje # -> boolean\n",
        "\n",
        "mensaje.find(\"TextoABuscar\") # -> int "
      ],
      "execution_count": 0,
      "outputs": []
    },
    {
      "cell_type": "markdown",
      "metadata": {
        "id": "Tb5u_vZ-Qc-T",
        "colab_type": "text"
      },
      "source": [
        "### Diccionarios"
      ]
    },
    {
      "cell_type": "code",
      "metadata": {
        "id": "ayg8_adQQkqQ",
        "colab_type": "code",
        "colab": {
          "base_uri": "https://localhost:8080/",
          "height": 34
        },
        "outputId": "376387fb-3fe1-46d4-beba-23f6b29f4b27"
      },
      "source": [
        "diccionario = {}\n",
        "diccionario = dict()\n",
        "\n",
        "# {llave : valor }\n",
        "\n",
        "usuario = {\n",
        "    \"Nombre\" : \"Jose\", \n",
        "    \"Edad\" : 31\n",
        "}\n",
        "\n",
        "usuario.keys()\n",
        "usuario.values()\n",
        "usuario.items()"
      ],
      "execution_count": 9,
      "outputs": [
        {
          "output_type": "execute_result",
          "data": {
            "text/plain": [
              "dict_keys(['Nombre', 'Edad'])"
            ]
          },
          "metadata": {
            "tags": []
          },
          "execution_count": 9
        }
      ]
    },
    {
      "cell_type": "code",
      "metadata": {
        "id": "kxxXyY6MVQTI",
        "colab_type": "code",
        "colab": {
          "base_uri": "https://localhost:8080/",
          "height": 51
        },
        "outputId": "24de3d99-2ebd-42ba-f3ef-3cb2a719cc03"
      },
      "source": [
        "diccionario = {}\n",
        "\n",
        "diccionario[\"nombre\"] = \"Codi\"\n",
        "\n",
        "valor = diccionario[\"nombre\"]\n",
        "\n",
        "diccionario[\"nombre\"] = 100\n",
        "\n",
        "print(diccionario)\n",
        "print(valor)\n"
      ],
      "execution_count": 16,
      "outputs": [
        {
          "output_type": "stream",
          "text": [
            "{'nombre': 100}\n",
            "Codi\n"
          ],
          "name": "stdout"
        }
      ]
    },
    {
      "cell_type": "code",
      "metadata": {
        "id": "4ciJDwuFWTa2",
        "colab_type": "code",
        "colab": {
          "base_uri": "https://localhost:8080/",
          "height": 85
        },
        "outputId": "ed5db57c-4399-495c-b6ae-5f464e9a6862"
      },
      "source": [
        "diccionario = {\"a\":1, \"b\":2, \"c\":3, \"a\":4 }\n",
        "\n",
        "result = \"a\" in diccionario \n",
        "resultado = diccionario.get(\"c\", \"No existe\")\n",
        "resultado2 = diccionario.setdefault (\"z\",{})\n",
        "\n",
        "print (result)\n",
        "print (resultado)\n",
        "print (resultado2)\n",
        "print (diccionario)\n",
        "\n",
        "# Eliminar elementos\n",
        "del diccionario[\"a\"]\n",
        "diccionario.pop(\"b\")\n",
        "diccionario = {}\n",
        "diccionario.clear"
      ],
      "execution_count": 27,
      "outputs": [
        {
          "output_type": "stream",
          "text": [
            "True\n",
            "3\n",
            "{}\n",
            "{'a': 4, 'b': 2, 'c': 3, 'z': {}}\n"
          ],
          "name": "stdout"
        }
      ]
    },
    {
      "cell_type": "markdown",
      "metadata": {
        "id": "ueSprFi8dXyo",
        "colab_type": "text"
      },
      "source": [
        "### Valores booleanos y valor None"
      ]
    },
    {
      "cell_type": "code",
      "metadata": {
        "id": "vp-VEvtmcVHk",
        "colab_type": "code",
        "colab": {}
      },
      "source": [
        "variable = [1,2,3,4]\n",
        "variable = None"
      ],
      "execution_count": 0,
      "outputs": []
    },
    {
      "cell_type": "markdown",
      "metadata": {
        "id": "d-ZqfZ2xdvZ9",
        "colab_type": "text"
      },
      "source": [
        "### Condicionales"
      ]
    },
    {
      "cell_type": "code",
      "metadata": {
        "id": "eT9_87tsdtJV",
        "colab_type": "code",
        "colab": {
          "base_uri": "https://localhost:8080/",
          "height": 34
        },
        "outputId": "090a3f96-c96a-4757-f3c8-65c3c1c65034"
      },
      "source": [
        "color_luz = 'rojo'\n",
        "\n",
        "if color_luz == 'verde':\n",
        "    print('Continua')\n",
        "elif color_luz == 'amarillo':\n",
        "    print('Alto parcial')\n",
        "elif color_luz == 'rojo':\n",
        "    print('Stop')\n"
      ],
      "execution_count": 33,
      "outputs": [
        {
          "output_type": "stream",
          "text": [
            "Stop\n"
          ],
          "name": "stdout"
        }
      ]
    },
    {
      "cell_type": "code",
      "metadata": {
        "id": "0WHzW4BnewZR",
        "colab_type": "code",
        "colab": {
          "base_uri": "https://localhost:8080/",
          "height": 34
        },
        "outputId": "f3a95770-9b11-418b-fc53-7febe4d91cfd"
      },
      "source": [
        "# False, \"\", '', [], (), {}, 0, 0.0  \n",
        "variable = False\n",
        "\n",
        "if variable: \n",
        "    print('Verdad')\n",
        "else:\n",
        "    print('Falso')"
      ],
      "execution_count": 35,
      "outputs": [
        {
          "output_type": "stream",
          "text": [
            "Falso\n"
          ],
          "name": "stdout"
        }
      ]
    },
    {
      "cell_type": "markdown",
      "metadata": {
        "id": "aQt-HuW0fcTd",
        "colab_type": "text"
      },
      "source": [
        "### Ciclo while"
      ]
    },
    {
      "cell_type": "code",
      "metadata": {
        "id": "0rKcYvHudrn0",
        "colab_type": "code",
        "colab": {
          "base_uri": "https://localhost:8080/",
          "height": 34
        },
        "outputId": "6969deed-ff39-44d3-9c57-fc0e1f64d567"
      },
      "source": [
        "numero = 123456789\n",
        "contador = 0\n",
        "\n",
        "while numero >= 1:\n",
        "    contador+=1\n",
        "    numero = numero / 10\n",
        "else:\n",
        "    # En caso de necesitar \n",
        "\n",
        "print(\"Cantidad de digitos:\", contador)"
      ],
      "execution_count": 36,
      "outputs": [
        {
          "output_type": "stream",
          "text": [
            "Cantidad de digitos: 9\n"
          ],
          "name": "stdout"
        }
      ]
    },
    {
      "cell_type": "markdown",
      "metadata": {
        "id": "MeNNiShFgNRI",
        "colab_type": "text"
      },
      "source": [
        "### Ciclo For"
      ]
    },
    {
      "cell_type": "code",
      "metadata": {
        "id": "SHrj222_gQAC",
        "colab_type": "code",
        "colab": {
          "base_uri": "https://localhost:8080/",
          "height": 187
        },
        "outputId": "9e3d4213-36fc-43a2-add3-d6e412194b10"
      },
      "source": [
        "numeros = [1,2,3,4,5,6,7,8,9,10]\n",
        "\n",
        "for numero in numeros:\n",
        "    print(numero)"
      ],
      "execution_count": 37,
      "outputs": [
        {
          "output_type": "stream",
          "text": [
            "1\n",
            "2\n",
            "3\n",
            "4\n",
            "5\n",
            "6\n",
            "7\n",
            "8\n",
            "9\n",
            "10\n"
          ],
          "name": "stdout"
        }
      ]
    },
    {
      "cell_type": "markdown",
      "metadata": {
        "id": "9Tflth1Ng8Z5",
        "colab_type": "text"
      },
      "source": [
        "### Función Range y enumerate"
      ]
    },
    {
      "cell_type": "code",
      "metadata": {
        "id": "kexRTSj-g-g9",
        "colab_type": "code",
        "colab": {
          "base_uri": "https://localhost:8080/",
          "height": 119
        },
        "outputId": "8d967f86-d058-4fcc-d09c-566693c6c7e2"
      },
      "source": [
        "lista = [1,2,3,4,5,6]\n",
        "\n",
        "for indice in range( len(lista) ):\n",
        "    print(\"indice\", indice, \"valor:\", lista[indice])"
      ],
      "execution_count": 42,
      "outputs": [
        {
          "output_type": "stream",
          "text": [
            "indice 0 valor: 1\n",
            "indice 1 valor: 2\n",
            "indice 2 valor: 3\n",
            "indice 3 valor: 4\n",
            "indice 4 valor: 5\n",
            "indice 5 valor: 6\n"
          ],
          "name": "stdout"
        }
      ]
    },
    {
      "cell_type": "code",
      "metadata": {
        "id": "yg_9mcs5h2Bm",
        "colab_type": "code",
        "colab": {
          "base_uri": "https://localhost:8080/",
          "height": 119
        },
        "outputId": "b8260e7e-b7c3-471d-b4de-e3beadcc848a"
      },
      "source": [
        "lista = [1,2,3,4,5,6]\n",
        "\n",
        "for indice, valor in enumerate(lista, 10):\n",
        "    print(\"Indice:\", indice, \"valor\", valor)"
      ],
      "execution_count": 44,
      "outputs": [
        {
          "output_type": "stream",
          "text": [
            "Indice: 10 valor 1\n",
            "Indice: 11 valor 2\n",
            "Indice: 12 valor 3\n",
            "Indice: 13 valor 4\n",
            "Indice: 14 valor 5\n",
            "Indice: 15 valor 6\n"
          ],
          "name": "stdout"
        }
      ]
    },
    {
      "cell_type": "code",
      "metadata": {
        "id": "fLe1rXQ_iqPD",
        "colab_type": "code",
        "colab": {
          "base_uri": "https://localhost:8080/",
          "height": 170
        },
        "outputId": "e7a65713-e5fd-4cfb-90c1-3c9a2ad04b25"
      },
      "source": [
        "# break \n",
        "# continue\n",
        "\n",
        "titulo = \"Curso de Python 3\"\n",
        "\n",
        "for caracter in titulo:\n",
        "  if caracter == \"P\":\n",
        "      break\n",
        "  print(caracter)"
      ],
      "execution_count": 52,
      "outputs": [
        {
          "output_type": "stream",
          "text": [
            "C\n",
            "u\n",
            "r\n",
            "s\n",
            "o\n",
            " \n",
            "d\n",
            "e\n",
            " \n"
          ],
          "name": "stdout"
        }
      ]
    }
  ]
}